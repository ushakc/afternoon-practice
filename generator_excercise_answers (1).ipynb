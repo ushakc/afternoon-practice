{
 "cells": [
  {
   "cell_type": "markdown",
   "id": "16fe356c",
   "metadata": {},
   "source": [
    "Problem 1\n",
    "Create a generator, primes_gen that generates prime numbers starting from 2."
   ]
  },
  {
   "cell_type": "code",
   "execution_count": 6,
   "id": "b674818c",
   "metadata": {},
   "outputs": [
    {
     "name": "stdout",
     "output_type": "stream",
     "text": [
      "2 3 5 7 11 13 17 19 23 29 "
     ]
    }
   ],
   "source": [
    "def primes_gen():\n",
    "    num=2\n",
    "    while True:\n",
    "        count=0\n",
    "        for i in range(2,num):\n",
    "            if num % i == 0:\n",
    "                count+=1\n",
    "        if count == 0 :\n",
    "            yield num\n",
    "        num+=1\n",
    "\n",
    "gen = primes_gen()\n",
    "for _ in range(10):\n",
    "    print(next(gen), end=' ')\n",
    "\n",
    "# Expected output\n",
    "# 2 3 5 7 11 13 17 19 23 29"
   ]
  },
  {
   "cell_type": "markdown",
   "id": "903665c9",
   "metadata": {},
   "source": [
    "Problem 2\n",
    "Create a generator, unique_letters that generates unique letters from the input string. It should generate the letters in the same order as from the input string."
   ]
  },
  {
   "cell_type": "code",
   "execution_count": 4,
   "id": "6d962374",
   "metadata": {},
   "outputs": [
    {
     "name": "stdout",
     "output_type": "stream",
     "text": [
      "h e l o "
     ]
    }
   ],
   "source": [
    "def unique_letters(text):\n",
    "    letters = []\n",
    "    for letter in text:\n",
    "        if letter not in letters:\n",
    "            letters.append(letter)\n",
    "            yield letter\n",
    "\n",
    "for letter in unique_letters('hello'):\n",
    "    print(letter, end=' ')\n",
    "\n",
    "# Expected output\n",
    "# h e l o"
   ]
  },
  {
   "cell_type": "code",
   "execution_count": null,
   "id": "a99fb2ec",
   "metadata": {},
   "outputs": [],
   "source": []
  }
 ],
 "metadata": {
  "kernelspec": {
   "display_name": "Python 3 (ipykernel)",
   "language": "python",
   "name": "python3"
  },
  "language_info": {
   "codemirror_mode": {
    "name": "ipython",
    "version": 3
   },
   "file_extension": ".py",
   "mimetype": "text/x-python",
   "name": "python",
   "nbconvert_exporter": "python",
   "pygments_lexer": "ipython3",
   "version": "3.9.12"
  }
 },
 "nbformat": 4,
 "nbformat_minor": 5
}
